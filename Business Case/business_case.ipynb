{
 "cells": [
  {
   "cell_type": "code",
   "execution_count": 1,
   "id": "4f08cd43-27af-43fa-98a3-eaa6e86102d0",
   "metadata": {},
   "outputs": [],
   "source": [
    "import pandas as pd"
   ]
  },
  {
   "cell_type": "code",
   "execution_count": 47,
   "id": "f3e0534a-28bb-4663-9dbb-47a284beadaf",
   "metadata": {},
   "outputs": [],
   "source": [
    "df = pd.read_excel(r\"D:\\AH\\Patient Payments Business Case Data.xlsx\", sheet_name = None)\n",
    "\n",
    "practice = df[\"Practice\"]\n",
    "charges = df[\"Charges\"]\n",
    "payments = df[\"Payments\"]"
   ]
  },
  {
   "cell_type": "code",
   "execution_count": 12,
   "id": "b96e1e1f-1fc6-476b-909b-18e4c26c2d23",
   "metadata": {},
   "outputs": [
    {
     "data": {
      "text/html": [
       "<div>\n",
       "<style scoped>\n",
       "    .dataframe tbody tr th:only-of-type {\n",
       "        vertical-align: middle;\n",
       "    }\n",
       "\n",
       "    .dataframe tbody tr th {\n",
       "        vertical-align: top;\n",
       "    }\n",
       "\n",
       "    .dataframe thead th {\n",
       "        text-align: right;\n",
       "    }\n",
       "</style>\n",
       "<table border=\"1\" class=\"dataframe\">\n",
       "  <thead>\n",
       "    <tr style=\"text-align: right;\">\n",
       "      <th></th>\n",
       "      <th>Practice ID</th>\n",
       "      <th>Specialty</th>\n",
       "      <th>Size</th>\n",
       "      <th>Statement Pay Enabled</th>\n",
       "      <th>Guest Pay Enabled</th>\n",
       "      <th>Portal Pay Enabled</th>\n",
       "    </tr>\n",
       "  </thead>\n",
       "  <tbody>\n",
       "    <tr>\n",
       "      <th>0</th>\n",
       "      <td>57</td>\n",
       "      <td>Obstetrics/Gynecology</td>\n",
       "      <td>Small</td>\n",
       "      <td>Y</td>\n",
       "      <td>Y</td>\n",
       "      <td>Y</td>\n",
       "    </tr>\n",
       "    <tr>\n",
       "      <th>1</th>\n",
       "      <td>72</td>\n",
       "      <td>Pediatrics</td>\n",
       "      <td>Small</td>\n",
       "      <td>Y</td>\n",
       "      <td>Y</td>\n",
       "      <td>Y</td>\n",
       "    </tr>\n",
       "    <tr>\n",
       "      <th>2</th>\n",
       "      <td>129</td>\n",
       "      <td>Obstetrics/Gynecology</td>\n",
       "      <td>Small</td>\n",
       "      <td>Y</td>\n",
       "      <td>Y</td>\n",
       "      <td>Y</td>\n",
       "    </tr>\n",
       "    <tr>\n",
       "      <th>3</th>\n",
       "      <td>210</td>\n",
       "      <td>Obstetrics/Gynecology</td>\n",
       "      <td>Small</td>\n",
       "      <td>Y</td>\n",
       "      <td>Y</td>\n",
       "      <td>Y</td>\n",
       "    </tr>\n",
       "    <tr>\n",
       "      <th>4</th>\n",
       "      <td>219</td>\n",
       "      <td>Obstetrics/Gynecology</td>\n",
       "      <td>X-Large</td>\n",
       "      <td>Y</td>\n",
       "      <td>Y</td>\n",
       "      <td>Y</td>\n",
       "    </tr>\n",
       "  </tbody>\n",
       "</table>\n",
       "</div>"
      ],
      "text/plain": [
       "   Practice ID              Specialty     Size Statement Pay Enabled  \\\n",
       "0           57  Obstetrics/Gynecology    Small                     Y   \n",
       "1           72             Pediatrics    Small                     Y   \n",
       "2          129  Obstetrics/Gynecology    Small                     Y   \n",
       "3          210  Obstetrics/Gynecology    Small                     Y   \n",
       "4          219  Obstetrics/Gynecology  X-Large                     Y   \n",
       "\n",
       "  Guest Pay Enabled Portal Pay Enabled  \n",
       "0                 Y                  Y  \n",
       "1                 Y                  Y  \n",
       "2                 Y                  Y  \n",
       "3                 Y                  Y  \n",
       "4                 Y                  Y  "
      ]
     },
     "execution_count": 12,
     "metadata": {},
     "output_type": "execute_result"
    }
   ],
   "source": [
    "practice.head()"
   ]
  },
  {
   "cell_type": "code",
   "execution_count": 13,
   "id": "d4735bbc-f0e8-4e86-86e9-0e4d05ec6948",
   "metadata": {},
   "outputs": [
    {
     "data": {
      "text/html": [
       "<div>\n",
       "<style scoped>\n",
       "    .dataframe tbody tr th:only-of-type {\n",
       "        vertical-align: middle;\n",
       "    }\n",
       "\n",
       "    .dataframe tbody tr th {\n",
       "        vertical-align: top;\n",
       "    }\n",
       "\n",
       "    .dataframe thead th {\n",
       "        text-align: right;\n",
       "    }\n",
       "</style>\n",
       "<table border=\"1\" class=\"dataframe\">\n",
       "  <thead>\n",
       "    <tr style=\"text-align: right;\">\n",
       "      <th></th>\n",
       "      <th>Practice ID</th>\n",
       "      <th>Charge ID</th>\n",
       "      <th>Charge Date</th>\n",
       "      <th>Patient ID</th>\n",
       "      <th>Charge Amount</th>\n",
       "      <th>Charge Type</th>\n",
       "      <th>Patient Age</th>\n",
       "    </tr>\n",
       "  </thead>\n",
       "  <tbody>\n",
       "    <tr>\n",
       "      <th>0</th>\n",
       "      <td>6120</td>\n",
       "      <td>6120_11364675</td>\n",
       "      <td>2021-04-18</td>\n",
       "      <td>6120_329154</td>\n",
       "      <td>16.70</td>\n",
       "      <td>COPAY</td>\n",
       "      <td>25</td>\n",
       "    </tr>\n",
       "    <tr>\n",
       "      <th>1</th>\n",
       "      <td>19851</td>\n",
       "      <td>19851_483405</td>\n",
       "      <td>2021-02-05</td>\n",
       "      <td>19851_86429</td>\n",
       "      <td>212.04</td>\n",
       "      <td>DEDUCTIBLE</td>\n",
       "      <td>90</td>\n",
       "    </tr>\n",
       "    <tr>\n",
       "      <th>2</th>\n",
       "      <td>19851</td>\n",
       "      <td>19851_473580</td>\n",
       "      <td>2021-01-22</td>\n",
       "      <td>19851_86429</td>\n",
       "      <td>132.06</td>\n",
       "      <td>DEDUCTIBLE</td>\n",
       "      <td>90</td>\n",
       "    </tr>\n",
       "    <tr>\n",
       "      <th>3</th>\n",
       "      <td>19851</td>\n",
       "      <td>19851_491385</td>\n",
       "      <td>2021-02-19</td>\n",
       "      <td>19851_86429</td>\n",
       "      <td>25.00</td>\n",
       "      <td>COINSURANCE</td>\n",
       "      <td>90</td>\n",
       "    </tr>\n",
       "    <tr>\n",
       "      <th>4</th>\n",
       "      <td>19851</td>\n",
       "      <td>19851_572250</td>\n",
       "      <td>2021-06-11</td>\n",
       "      <td>19851_86429</td>\n",
       "      <td>25.00</td>\n",
       "      <td>COINSURANCE</td>\n",
       "      <td>90</td>\n",
       "    </tr>\n",
       "  </tbody>\n",
       "</table>\n",
       "</div>"
      ],
      "text/plain": [
       "   Practice ID      Charge ID Charge Date   Patient ID  Charge Amount  \\\n",
       "0         6120  6120_11364675  2021-04-18  6120_329154          16.70   \n",
       "1        19851   19851_483405  2021-02-05  19851_86429         212.04   \n",
       "2        19851   19851_473580  2021-01-22  19851_86429         132.06   \n",
       "3        19851   19851_491385  2021-02-19  19851_86429          25.00   \n",
       "4        19851   19851_572250  2021-06-11  19851_86429          25.00   \n",
       "\n",
       "   Charge Type  Patient Age  \n",
       "0        COPAY           25  \n",
       "1   DEDUCTIBLE           90  \n",
       "2   DEDUCTIBLE           90  \n",
       "3  COINSURANCE           90  \n",
       "4  COINSURANCE           90  "
      ]
     },
     "execution_count": 13,
     "metadata": {},
     "output_type": "execute_result"
    }
   ],
   "source": [
    "charges.head()"
   ]
  },
  {
   "cell_type": "code",
   "execution_count": 14,
   "id": "9f09d492-2648-469c-adfd-fb18cd1cb3ef",
   "metadata": {},
   "outputs": [
    {
     "data": {
      "text/html": [
       "<div>\n",
       "<style scoped>\n",
       "    .dataframe tbody tr th:only-of-type {\n",
       "        vertical-align: middle;\n",
       "    }\n",
       "\n",
       "    .dataframe tbody tr th {\n",
       "        vertical-align: top;\n",
       "    }\n",
       "\n",
       "    .dataframe thead th {\n",
       "        text-align: right;\n",
       "    }\n",
       "</style>\n",
       "<table border=\"1\" class=\"dataframe\">\n",
       "  <thead>\n",
       "    <tr style=\"text-align: right;\">\n",
       "      <th></th>\n",
       "      <th>Practice ID</th>\n",
       "      <th>Payment Date</th>\n",
       "      <th>Paid Amount</th>\n",
       "    </tr>\n",
       "  </thead>\n",
       "  <tbody>\n",
       "    <tr>\n",
       "      <th>count</th>\n",
       "      <td>91208.000000</td>\n",
       "      <td>91208</td>\n",
       "      <td>91208.000000</td>\n",
       "    </tr>\n",
       "    <tr>\n",
       "      <th>mean</th>\n",
       "      <td>3977.842185</td>\n",
       "      <td>2021-04-05 07:11:34.044382208</td>\n",
       "      <td>53.287807</td>\n",
       "    </tr>\n",
       "    <tr>\n",
       "      <th>min</th>\n",
       "      <td>57.000000</td>\n",
       "      <td>2021-01-01 00:00:00</td>\n",
       "      <td>-228.510000</td>\n",
       "    </tr>\n",
       "    <tr>\n",
       "      <th>25%</th>\n",
       "      <td>1257.000000</td>\n",
       "      <td>2021-02-22 00:00:00</td>\n",
       "      <td>15.000000</td>\n",
       "    </tr>\n",
       "    <tr>\n",
       "      <th>50%</th>\n",
       "      <td>4479.000000</td>\n",
       "      <td>2021-04-07 00:00:00</td>\n",
       "      <td>30.000000</td>\n",
       "    </tr>\n",
       "    <tr>\n",
       "      <th>75%</th>\n",
       "      <td>5559.000000</td>\n",
       "      <td>2021-05-20 00:00:00</td>\n",
       "      <td>57.125000</td>\n",
       "    </tr>\n",
       "    <tr>\n",
       "      <th>max</th>\n",
       "      <td>19851.000000</td>\n",
       "      <td>2021-06-30 00:00:00</td>\n",
       "      <td>12500.000000</td>\n",
       "    </tr>\n",
       "    <tr>\n",
       "      <th>std</th>\n",
       "      <td>3222.966935</td>\n",
       "      <td>NaN</td>\n",
       "      <td>115.112197</td>\n",
       "    </tr>\n",
       "  </tbody>\n",
       "</table>\n",
       "</div>"
      ],
      "text/plain": [
       "        Practice ID                   Payment Date   Paid Amount\n",
       "count  91208.000000                          91208  91208.000000\n",
       "mean    3977.842185  2021-04-05 07:11:34.044382208     53.287807\n",
       "min       57.000000            2021-01-01 00:00:00   -228.510000\n",
       "25%     1257.000000            2021-02-22 00:00:00     15.000000\n",
       "50%     4479.000000            2021-04-07 00:00:00     30.000000\n",
       "75%     5559.000000            2021-05-20 00:00:00     57.125000\n",
       "max    19851.000000            2021-06-30 00:00:00  12500.000000\n",
       "std     3222.966935                            NaN    115.112197"
      ]
     },
     "execution_count": 14,
     "metadata": {},
     "output_type": "execute_result"
    }
   ],
   "source": [
    "payments.describe()"
   ]
  },
  {
   "cell_type": "code",
   "execution_count": 15,
   "id": "2e72b85c-4030-40f9-a3ca-3ca64dd6b055",
   "metadata": {},
   "outputs": [
    {
     "name": "stdout",
     "output_type": "stream",
     "text": [
      "<class 'pandas.core.frame.DataFrame'>\n",
      "RangeIndex: 91208 entries, 0 to 91207\n",
      "Data columns (total 6 columns):\n",
      " #   Column          Non-Null Count  Dtype         \n",
      "---  ------          --------------  -----         \n",
      " 0   Practice ID     91208 non-null  int64         \n",
      " 1   Charge ID       91208 non-null  object        \n",
      " 2   Payment ID      91208 non-null  object        \n",
      " 3   Payment Date    91208 non-null  datetime64[ns]\n",
      " 4   Paid Amount     91208 non-null  float64       \n",
      " 5   Payment Method  91208 non-null  object        \n",
      "dtypes: datetime64[ns](1), float64(1), int64(1), object(3)\n",
      "memory usage: 4.2+ MB\n"
     ]
    }
   ],
   "source": [
    "payments.info()"
   ]
  },
  {
   "cell_type": "code",
   "execution_count": 18,
   "id": "2d283028-dd7a-4d2e-b082-0131a04d21ac",
   "metadata": {},
   "outputs": [
    {
     "data": {
      "text/plain": [
       "Specialty\n",
       "Obstetrics/Gynecology    17\n",
       "Pediatrics               11\n",
       "Cardiology                5\n",
       "Urgent Care               5\n",
       "Neurological Surgery      1\n",
       "Name: count, dtype: int64"
      ]
     },
     "execution_count": 18,
     "metadata": {},
     "output_type": "execute_result"
    }
   ],
   "source": [
    "practice['Specialty'].value_counts()"
   ]
  },
  {
   "cell_type": "code",
   "execution_count": 20,
   "id": "cc0fe7b9-e88f-438f-994c-0dcf8ce3b418",
   "metadata": {},
   "outputs": [
    {
     "data": {
      "text/plain": [
       "Paid Amount\n",
       "25.00    5690\n",
       "20.00    5001\n",
       "30.00    4736\n",
       "35.00    3707\n",
       "10.00    3222\n",
       "         ... \n",
       "53.50       1\n",
       "49.30       1\n",
       "17.67       1\n",
       "34.69       1\n",
       "9.36        1\n",
       "Name: count, Length: 9304, dtype: int64"
      ]
     },
     "execution_count": 20,
     "metadata": {},
     "output_type": "execute_result"
    }
   ],
   "source": [
    "payments['Paid Amount'].value_counts()"
   ]
  },
  {
   "cell_type": "code",
   "execution_count": 24,
   "id": "5acc75e5-34aa-4cb1-8642-5752a7bc914e",
   "metadata": {},
   "outputs": [
    {
     "data": {
      "text/plain": [
       "np.int64(0)"
      ]
     },
     "execution_count": 24,
     "metadata": {},
     "output_type": "execute_result"
    }
   ],
   "source": [
    "practice.duplicated().sum()"
   ]
  },
  {
   "cell_type": "code",
   "execution_count": 25,
   "id": "75810215-7bc5-4df0-a239-2c2c9cefef8d",
   "metadata": {},
   "outputs": [
    {
     "data": {
      "text/plain": [
       "np.int64(0)"
      ]
     },
     "execution_count": 25,
     "metadata": {},
     "output_type": "execute_result"
    }
   ],
   "source": [
    "charges.duplicated().sum()"
   ]
  },
  {
   "cell_type": "code",
   "execution_count": 26,
   "id": "87446c41-864a-432c-93fa-f2ef10206928",
   "metadata": {},
   "outputs": [
    {
     "data": {
      "text/plain": [
       "np.int64(0)"
      ]
     },
     "execution_count": 26,
     "metadata": {},
     "output_type": "execute_result"
    }
   ],
   "source": [
    "payments.duplicated().sum()"
   ]
  },
  {
   "cell_type": "code",
   "execution_count": 28,
   "id": "458a4317-4c5a-4046-a840-2fb8a9dbdca3",
   "metadata": {},
   "outputs": [
    {
     "data": {
      "text/plain": [
       "np.int64(34)"
      ]
     },
     "execution_count": 28,
     "metadata": {},
     "output_type": "execute_result"
    }
   ],
   "source": [
    "practice.duplicated(subset = ['Specialty']).sum()"
   ]
  },
  {
   "cell_type": "code",
   "execution_count": 30,
   "id": "26012c45-f81a-4e27-a3f0-cb3ad19440cf",
   "metadata": {},
   "outputs": [
    {
     "data": {
      "text/plain": [
       "Practice ID              0\n",
       "Specialty                0\n",
       "Size                     0\n",
       "Statement Pay Enabled    0\n",
       "Guest Pay Enabled        0\n",
       "Portal Pay Enabled       0\n",
       "dtype: int64"
      ]
     },
     "execution_count": 30,
     "metadata": {},
     "output_type": "execute_result"
    }
   ],
   "source": [
    "practice.isnull().sum()"
   ]
  },
  {
   "cell_type": "code",
   "execution_count": 31,
   "id": "d9163793-6f9b-4a43-99e1-340ce074f11d",
   "metadata": {},
   "outputs": [
    {
     "data": {
      "text/plain": [
       "Practice ID              39\n",
       "Specialty                39\n",
       "Size                     39\n",
       "Statement Pay Enabled    39\n",
       "Guest Pay Enabled        39\n",
       "Portal Pay Enabled       39\n",
       "dtype: int64"
      ]
     },
     "execution_count": 31,
     "metadata": {},
     "output_type": "execute_result"
    }
   ],
   "source": [
    "practice.notnull().sum()"
   ]
  },
  {
   "cell_type": "code",
   "execution_count": 32,
   "id": "3df2f582-b1a6-494f-a397-3d0b5f949408",
   "metadata": {},
   "outputs": [
    {
     "data": {
      "text/plain": [
       "Practice ID      100107\n",
       "Charge ID        100107\n",
       "Charge Date      100107\n",
       "Patient ID       100107\n",
       "Charge Amount    100107\n",
       "Charge Type      100107\n",
       "Patient Age      100107\n",
       "dtype: int64"
      ]
     },
     "execution_count": 32,
     "metadata": {},
     "output_type": "execute_result"
    }
   ],
   "source": [
    "charges.notnull().sum()"
   ]
  },
  {
   "cell_type": "code",
   "execution_count": 33,
   "id": "7b687fa9-607a-4651-8d8f-6097115a7838",
   "metadata": {},
   "outputs": [
    {
     "data": {
      "text/plain": [
       "Practice ID      0\n",
       "Charge ID        0\n",
       "Charge Date      0\n",
       "Patient ID       0\n",
       "Charge Amount    0\n",
       "Charge Type      0\n",
       "Patient Age      0\n",
       "dtype: int64"
      ]
     },
     "execution_count": 33,
     "metadata": {},
     "output_type": "execute_result"
    }
   ],
   "source": [
    "charges.isnull().sum()"
   ]
  },
  {
   "cell_type": "code",
   "execution_count": 35,
   "id": "6a40ab56-7ba7-46e7-a16b-96bc80411269",
   "metadata": {},
   "outputs": [
    {
     "data": {
      "text/plain": [
       "Practice ID       0\n",
       "Charge ID         0\n",
       "Payment ID        0\n",
       "Payment Date      0\n",
       "Paid Amount       0\n",
       "Payment Method    0\n",
       "dtype: int64"
      ]
     },
     "execution_count": 35,
     "metadata": {},
     "output_type": "execute_result"
    }
   ],
   "source": [
    "payments.isnull().sum()"
   ]
  },
  {
   "cell_type": "markdown",
   "id": "8273584e-4c6c-450b-b048-fe51c6e95762",
   "metadata": {},
   "source": []
  },
  {
   "cell_type": "code",
   "execution_count": 4,
   "id": "9c7cae75-5d45-4124-b2d8-c41e5166a99f",
   "metadata": {},
   "outputs": [
    {
     "data": {
      "text/html": [
       "<div>\n",
       "<style scoped>\n",
       "    .dataframe tbody tr th:only-of-type {\n",
       "        vertical-align: middle;\n",
       "    }\n",
       "\n",
       "    .dataframe tbody tr th {\n",
       "        vertical-align: top;\n",
       "    }\n",
       "\n",
       "    .dataframe thead th {\n",
       "        text-align: right;\n",
       "    }\n",
       "</style>\n",
       "<table border=\"1\" class=\"dataframe\">\n",
       "  <thead>\n",
       "    <tr style=\"text-align: right;\">\n",
       "      <th></th>\n",
       "      <th>Practice ID</th>\n",
       "      <th>Specialty</th>\n",
       "      <th>Size</th>\n",
       "      <th>Statement Pay Enabled</th>\n",
       "      <th>Guest Pay Enabled</th>\n",
       "      <th>Portal Pay Enabled</th>\n",
       "    </tr>\n",
       "  </thead>\n",
       "  <tbody>\n",
       "    <tr>\n",
       "      <th>0</th>\n",
       "      <td>57</td>\n",
       "      <td>Obstetrics/Gynecology</td>\n",
       "      <td>Small</td>\n",
       "      <td>Y</td>\n",
       "      <td>Y</td>\n",
       "      <td>Y</td>\n",
       "    </tr>\n",
       "    <tr>\n",
       "      <th>1</th>\n",
       "      <td>72</td>\n",
       "      <td>Pediatrics</td>\n",
       "      <td>Small</td>\n",
       "      <td>Y</td>\n",
       "      <td>Y</td>\n",
       "      <td>Y</td>\n",
       "    </tr>\n",
       "    <tr>\n",
       "      <th>2</th>\n",
       "      <td>129</td>\n",
       "      <td>Obstetrics/Gynecology</td>\n",
       "      <td>Small</td>\n",
       "      <td>Y</td>\n",
       "      <td>Y</td>\n",
       "      <td>Y</td>\n",
       "    </tr>\n",
       "    <tr>\n",
       "      <th>3</th>\n",
       "      <td>210</td>\n",
       "      <td>Obstetrics/Gynecology</td>\n",
       "      <td>Small</td>\n",
       "      <td>Y</td>\n",
       "      <td>Y</td>\n",
       "      <td>Y</td>\n",
       "    </tr>\n",
       "    <tr>\n",
       "      <th>4</th>\n",
       "      <td>219</td>\n",
       "      <td>Obstetrics/Gynecology</td>\n",
       "      <td>X-Large</td>\n",
       "      <td>Y</td>\n",
       "      <td>Y</td>\n",
       "      <td>Y</td>\n",
       "    </tr>\n",
       "  </tbody>\n",
       "</table>\n",
       "</div>"
      ],
      "text/plain": [
       "   Practice ID              Specialty     Size Statement Pay Enabled  \\\n",
       "0           57  Obstetrics/Gynecology    Small                     Y   \n",
       "1           72             Pediatrics    Small                     Y   \n",
       "2          129  Obstetrics/Gynecology    Small                     Y   \n",
       "3          210  Obstetrics/Gynecology    Small                     Y   \n",
       "4          219  Obstetrics/Gynecology  X-Large                     Y   \n",
       "\n",
       "  Guest Pay Enabled Portal Pay Enabled  \n",
       "0                 Y                  Y  \n",
       "1                 Y                  Y  \n",
       "2                 Y                  Y  \n",
       "3                 Y                  Y  \n",
       "4                 Y                  Y  "
      ]
     },
     "execution_count": 4,
     "metadata": {},
     "output_type": "execute_result"
    }
   ],
   "source": [
    "practice.head()"
   ]
  },
  {
   "cell_type": "code",
   "execution_count": 48,
   "id": "63df70ac-12b3-42d2-88df-b15df0687382",
   "metadata": {},
   "outputs": [],
   "source": [
    "payment_method = ['Guest Pay', 'Portal Pay', 'Statement pay']"
   ]
  },
  {
   "cell_type": "code",
   "execution_count": 49,
   "id": "6f739eac-9e2c-40d3-b6af-9db862b8dc12",
   "metadata": {},
   "outputs": [
    {
     "data": {
      "text/plain": [
       "39"
      ]
     },
     "execution_count": 49,
     "metadata": {},
     "output_type": "execute_result"
    }
   ],
   "source": [
    "total_practices = practice['Practice ID'].nunique()\n",
    "(total_practices)"
   ]
  },
  {
   "cell_type": "code",
   "execution_count": 50,
   "id": "db80aad4-093a-4dc6-8b9b-9a6c6e4a2b5e",
   "metadata": {},
   "outputs": [
    {
     "ename": "TypeError",
     "evalue": "unhashable type: 'list'",
     "output_type": "error",
     "traceback": [
      "\u001b[1;31m---------------------------------------------------------------------------\u001b[0m",
      "\u001b[1;31mTypeError\u001b[0m                                 Traceback (most recent call last)",
      "Cell \u001b[1;32mIn[50], line 1\u001b[0m\n\u001b[1;32m----> 1\u001b[0m enabled_counts \u001b[38;5;241m=\u001b[39m \u001b[43mdf\u001b[49m\u001b[43m[\u001b[49m\u001b[43mpayment_method\u001b[49m\u001b[43m]\u001b[49m\u001b[38;5;241m.\u001b[39mapply(\u001b[38;5;28;01mlambda\u001b[39;00m x : (x \u001b[38;5;241m==\u001b[39m \u001b[38;5;124m'\u001b[39m\u001b[38;5;124mY\u001b[39m\u001b[38;5;124m'\u001b[39m)\u001b[38;5;241m.\u001b[39msum())\n",
      "\u001b[1;31mTypeError\u001b[0m: unhashable type: 'list'"
     ]
    }
   ],
   "source": [
    "enabled_counts = df[payment_method].apply(lambda x : (x == 'Y').sum())"
   ]
  },
  {
   "cell_type": "code",
   "execution_count": 51,
   "id": "754d7629-cfd2-4cc6-86eb-3bff2cf61979",
   "metadata": {},
   "outputs": [
    {
     "data": {
      "text/html": [
       "<div>\n",
       "<style scoped>\n",
       "    .dataframe tbody tr th:only-of-type {\n",
       "        vertical-align: middle;\n",
       "    }\n",
       "\n",
       "    .dataframe tbody tr th {\n",
       "        vertical-align: top;\n",
       "    }\n",
       "\n",
       "    .dataframe thead th {\n",
       "        text-align: right;\n",
       "    }\n",
       "</style>\n",
       "<table border=\"1\" class=\"dataframe\">\n",
       "  <thead>\n",
       "    <tr style=\"text-align: right;\">\n",
       "      <th></th>\n",
       "      <th>Practice ID</th>\n",
       "      <th>Specialty</th>\n",
       "      <th>Size</th>\n",
       "      <th>Statement Pay Enabled</th>\n",
       "      <th>Guest Pay Enabled</th>\n",
       "      <th>Portal Pay Enabled</th>\n",
       "    </tr>\n",
       "  </thead>\n",
       "  <tbody>\n",
       "    <tr>\n",
       "      <th>0</th>\n",
       "      <td>57</td>\n",
       "      <td>Obstetrics/Gynecology</td>\n",
       "      <td>Small</td>\n",
       "      <td>Y</td>\n",
       "      <td>Y</td>\n",
       "      <td>Y</td>\n",
       "    </tr>\n",
       "    <tr>\n",
       "      <th>1</th>\n",
       "      <td>72</td>\n",
       "      <td>Pediatrics</td>\n",
       "      <td>Small</td>\n",
       "      <td>Y</td>\n",
       "      <td>Y</td>\n",
       "      <td>Y</td>\n",
       "    </tr>\n",
       "    <tr>\n",
       "      <th>2</th>\n",
       "      <td>129</td>\n",
       "      <td>Obstetrics/Gynecology</td>\n",
       "      <td>Small</td>\n",
       "      <td>Y</td>\n",
       "      <td>Y</td>\n",
       "      <td>Y</td>\n",
       "    </tr>\n",
       "    <tr>\n",
       "      <th>3</th>\n",
       "      <td>210</td>\n",
       "      <td>Obstetrics/Gynecology</td>\n",
       "      <td>Small</td>\n",
       "      <td>Y</td>\n",
       "      <td>Y</td>\n",
       "      <td>Y</td>\n",
       "    </tr>\n",
       "    <tr>\n",
       "      <th>4</th>\n",
       "      <td>219</td>\n",
       "      <td>Obstetrics/Gynecology</td>\n",
       "      <td>X-Large</td>\n",
       "      <td>Y</td>\n",
       "      <td>Y</td>\n",
       "      <td>Y</td>\n",
       "    </tr>\n",
       "  </tbody>\n",
       "</table>\n",
       "</div>"
      ],
      "text/plain": [
       "   Practice ID              Specialty     Size Statement Pay Enabled  \\\n",
       "0           57  Obstetrics/Gynecology    Small                     Y   \n",
       "1           72             Pediatrics    Small                     Y   \n",
       "2          129  Obstetrics/Gynecology    Small                     Y   \n",
       "3          210  Obstetrics/Gynecology    Small                     Y   \n",
       "4          219  Obstetrics/Gynecology  X-Large                     Y   \n",
       "\n",
       "  Guest Pay Enabled Portal Pay Enabled  \n",
       "0                 Y                  Y  \n",
       "1                 Y                  Y  \n",
       "2                 Y                  Y  \n",
       "3                 Y                  Y  \n",
       "4                 Y                  Y  "
      ]
     },
     "execution_count": 51,
     "metadata": {},
     "output_type": "execute_result"
    }
   ],
   "source": [
    "practice.head()"
   ]
  },
  {
   "cell_type": "code",
   "execution_count": 52,
   "id": "e573ef7c-d6db-49d2-bf11-5358cb4ebd1a",
   "metadata": {},
   "outputs": [],
   "source": [
    "data = {\n",
    "    'payment_method' : ['Guest Pay', 'Portal Pay', 'Statement Pay'],\n",
    "    'practice_count' : [\n",
    "        practice['Guest Pay Enabled'].apply(lambda x : x == 'Y').sum(),\n",
    "        practice['Portal Pay Enabled'].apply(lambda x : x == 'Y').sum(),\n",
    "        practice['Statement Pay Enabled'].apply(lambda x : x == 'Y').sum(),\n",
    "    ]} "
   ]
  },
  {
   "cell_type": "code",
   "execution_count": 53,
   "id": "a6199864-51e0-4183-99f3-10c33e37d53b",
   "metadata": {},
   "outputs": [
    {
     "data": {
      "text/plain": [
       "{'payment_method': ['Guest Pay', 'Portal Pay', 'Statement Pay'],\n",
       " 'practice_count': [np.int64(36), np.int64(30), np.int64(34)]}"
      ]
     },
     "execution_count": 53,
     "metadata": {},
     "output_type": "execute_result"
    }
   ],
   "source": [
    "data"
   ]
  },
  {
   "cell_type": "code",
   "execution_count": 54,
   "id": "96473617-0fa5-4946-a1ae-efac7df9cf9a",
   "metadata": {},
   "outputs": [
    {
     "data": {
      "text/html": [
       "<div>\n",
       "<style scoped>\n",
       "    .dataframe tbody tr th:only-of-type {\n",
       "        vertical-align: middle;\n",
       "    }\n",
       "\n",
       "    .dataframe tbody tr th {\n",
       "        vertical-align: top;\n",
       "    }\n",
       "\n",
       "    .dataframe thead th {\n",
       "        text-align: right;\n",
       "    }\n",
       "</style>\n",
       "<table border=\"1\" class=\"dataframe\">\n",
       "  <thead>\n",
       "    <tr style=\"text-align: right;\">\n",
       "      <th></th>\n",
       "      <th>payment_method</th>\n",
       "      <th>practice_count</th>\n",
       "    </tr>\n",
       "  </thead>\n",
       "  <tbody>\n",
       "    <tr>\n",
       "      <th>0</th>\n",
       "      <td>Guest Pay</td>\n",
       "      <td>36</td>\n",
       "    </tr>\n",
       "    <tr>\n",
       "      <th>1</th>\n",
       "      <td>Portal Pay</td>\n",
       "      <td>30</td>\n",
       "    </tr>\n",
       "    <tr>\n",
       "      <th>2</th>\n",
       "      <td>Statement Pay</td>\n",
       "      <td>34</td>\n",
       "    </tr>\n",
       "  </tbody>\n",
       "</table>\n",
       "</div>"
      ],
      "text/plain": [
       "  payment_method  practice_count\n",
       "0      Guest Pay              36\n",
       "1     Portal Pay              30\n",
       "2  Statement Pay              34"
      ]
     },
     "execution_count": 54,
     "metadata": {},
     "output_type": "execute_result"
    }
   ],
   "source": [
    "df = pd.DataFrame(data)\n",
    "df"
   ]
  },
  {
   "cell_type": "code",
   "execution_count": 55,
   "id": "1eec6d03-1efa-4c4c-9409-1d36908776c6",
   "metadata": {},
   "outputs": [],
   "source": [
    "total_practices = practice['Practice ID'].count()"
   ]
  },
  {
   "cell_type": "code",
   "execution_count": 56,
   "id": "99ac82b0-8ec2-4140-9eaa-2705a3c24973",
   "metadata": {},
   "outputs": [
    {
     "data": {
      "text/plain": [
       "np.int64(39)"
      ]
     },
     "execution_count": 56,
     "metadata": {},
     "output_type": "execute_result"
    }
   ],
   "source": [
    "total_practices"
   ]
  },
  {
   "cell_type": "code",
   "execution_count": 57,
   "id": "00ffc08f-9419-4ef4-a9d6-467d2d53a341",
   "metadata": {},
   "outputs": [],
   "source": [
    "df['percentage'] = (df['practice_count'] / total_practices).round(2)"
   ]
  },
  {
   "cell_type": "code",
   "execution_count": 31,
   "id": "72209f53-ce21-4553-a314-2450aff2cede",
   "metadata": {},
   "outputs": [
    {
     "data": {
      "text/html": [
       "<div>\n",
       "<style scoped>\n",
       "    .dataframe tbody tr th:only-of-type {\n",
       "        vertical-align: middle;\n",
       "    }\n",
       "\n",
       "    .dataframe tbody tr th {\n",
       "        vertical-align: top;\n",
       "    }\n",
       "\n",
       "    .dataframe thead th {\n",
       "        text-align: right;\n",
       "    }\n",
       "</style>\n",
       "<table border=\"1\" class=\"dataframe\">\n",
       "  <thead>\n",
       "    <tr style=\"text-align: right;\">\n",
       "      <th></th>\n",
       "      <th>payment_method</th>\n",
       "      <th>practice_count</th>\n",
       "      <th>percentage</th>\n",
       "    </tr>\n",
       "  </thead>\n",
       "  <tbody>\n",
       "    <tr>\n",
       "      <th>0</th>\n",
       "      <td>Guest Pay</td>\n",
       "      <td>36</td>\n",
       "      <td>0.92</td>\n",
       "    </tr>\n",
       "    <tr>\n",
       "      <th>1</th>\n",
       "      <td>Portal Pay</td>\n",
       "      <td>30</td>\n",
       "      <td>0.77</td>\n",
       "    </tr>\n",
       "    <tr>\n",
       "      <th>2</th>\n",
       "      <td>Statement Pay</td>\n",
       "      <td>34</td>\n",
       "      <td>0.87</td>\n",
       "    </tr>\n",
       "  </tbody>\n",
       "</table>\n",
       "</div>"
      ],
      "text/plain": [
       "  payment_method  practice_count  percentage\n",
       "0      Guest Pay              36        0.92\n",
       "1     Portal Pay              30        0.77\n",
       "2  Statement Pay              34        0.87"
      ]
     },
     "execution_count": 31,
     "metadata": {},
     "output_type": "execute_result"
    }
   ],
   "source": [
    "df"
   ]
  },
  {
   "cell_type": "code",
   "execution_count": 58,
   "id": "ccdb6513-f4cc-4878-871b-2c69343c1716",
   "metadata": {},
   "outputs": [],
   "source": [
    "def get_enabled_methods(row):\n",
    "    methods = []\n",
    "    if row['Guest Pay Enabled'] == 'Y':\n",
    "        methods.append('Guest')\n",
    "    if row['Portal Pay Enabled'] == 'Y':\n",
    "        methods.append('Portal')\n",
    "    if row['Statement Pay Enabled'] == 'Y':\n",
    "        methods.append('Statement')\n",
    "    return ', '.join(methods) if methods else 'None'\n"
   ]
  },
  {
   "cell_type": "code",
   "execution_count": 61,
   "id": "6660fd47-5589-42ec-9350-c8285124907d",
   "metadata": {},
   "outputs": [],
   "source": [
    "practice['enabled_payment_methods'] = practice.apply(get_enabled_methods, axis = 1)"
   ]
  },
  {
   "cell_type": "code",
   "execution_count": 64,
   "id": "4f797ca3-5fc6-4967-886f-4c4495496639",
   "metadata": {},
   "outputs": [],
   "source": [
    "df1 = practice['enabled_payment_methods'].value_counts().reset_index()\n",
    "df1.columns = ['enabled_payment_method', 'practice_count']"
   ]
  },
  {
   "cell_type": "code",
   "execution_count": 65,
   "id": "89fa1799-1bfd-43ea-84bc-09531d0c1154",
   "metadata": {},
   "outputs": [
    {
     "data": {
      "text/html": [
       "<div>\n",
       "<style scoped>\n",
       "    .dataframe tbody tr th:only-of-type {\n",
       "        vertical-align: middle;\n",
       "    }\n",
       "\n",
       "    .dataframe tbody tr th {\n",
       "        vertical-align: top;\n",
       "    }\n",
       "\n",
       "    .dataframe thead th {\n",
       "        text-align: right;\n",
       "    }\n",
       "</style>\n",
       "<table border=\"1\" class=\"dataframe\">\n",
       "  <thead>\n",
       "    <tr style=\"text-align: right;\">\n",
       "      <th></th>\n",
       "      <th>enabled_payment_method</th>\n",
       "      <th>practice_count</th>\n",
       "    </tr>\n",
       "  </thead>\n",
       "  <tbody>\n",
       "    <tr>\n",
       "      <th>0</th>\n",
       "      <td>Guest, Portal, Statement</td>\n",
       "      <td>29</td>\n",
       "    </tr>\n",
       "    <tr>\n",
       "      <th>1</th>\n",
       "      <td>Guest</td>\n",
       "      <td>4</td>\n",
       "    </tr>\n",
       "    <tr>\n",
       "      <th>2</th>\n",
       "      <td>Statement</td>\n",
       "      <td>3</td>\n",
       "    </tr>\n",
       "    <tr>\n",
       "      <th>3</th>\n",
       "      <td>Guest, Statement</td>\n",
       "      <td>2</td>\n",
       "    </tr>\n",
       "    <tr>\n",
       "      <th>4</th>\n",
       "      <td>Guest, Portal</td>\n",
       "      <td>1</td>\n",
       "    </tr>\n",
       "  </tbody>\n",
       "</table>\n",
       "</div>"
      ],
      "text/plain": [
       "     enabled_payment_method  practice_count\n",
       "0  Guest, Portal, Statement              29\n",
       "1                     Guest               4\n",
       "2                 Statement               3\n",
       "3          Guest, Statement               2\n",
       "4             Guest, Portal               1"
      ]
     },
     "execution_count": 65,
     "metadata": {},
     "output_type": "execute_result"
    }
   ],
   "source": [
    "df1"
   ]
  },
  {
   "cell_type": "code",
   "execution_count": 68,
   "id": "f3104ee9-a3c6-4260-88bc-1d673dda6f0d",
   "metadata": {},
   "outputs": [],
   "source": [
    "df1['percentage'] = (df1['practice_count'] / total_practices).round(2)"
   ]
  },
  {
   "cell_type": "code",
   "execution_count": 69,
   "id": "1d9ef3ef-25c2-4915-97e3-c326786fdefe",
   "metadata": {},
   "outputs": [
    {
     "data": {
      "text/html": [
       "<div>\n",
       "<style scoped>\n",
       "    .dataframe tbody tr th:only-of-type {\n",
       "        vertical-align: middle;\n",
       "    }\n",
       "\n",
       "    .dataframe tbody tr th {\n",
       "        vertical-align: top;\n",
       "    }\n",
       "\n",
       "    .dataframe thead th {\n",
       "        text-align: right;\n",
       "    }\n",
       "</style>\n",
       "<table border=\"1\" class=\"dataframe\">\n",
       "  <thead>\n",
       "    <tr style=\"text-align: right;\">\n",
       "      <th></th>\n",
       "      <th>enabled_payment_method</th>\n",
       "      <th>practice_count</th>\n",
       "      <th>percentage</th>\n",
       "    </tr>\n",
       "  </thead>\n",
       "  <tbody>\n",
       "    <tr>\n",
       "      <th>0</th>\n",
       "      <td>Guest, Portal, Statement</td>\n",
       "      <td>29</td>\n",
       "      <td>0.74</td>\n",
       "    </tr>\n",
       "    <tr>\n",
       "      <th>1</th>\n",
       "      <td>Guest</td>\n",
       "      <td>4</td>\n",
       "      <td>0.10</td>\n",
       "    </tr>\n",
       "    <tr>\n",
       "      <th>2</th>\n",
       "      <td>Statement</td>\n",
       "      <td>3</td>\n",
       "      <td>0.08</td>\n",
       "    </tr>\n",
       "    <tr>\n",
       "      <th>3</th>\n",
       "      <td>Guest, Statement</td>\n",
       "      <td>2</td>\n",
       "      <td>0.05</td>\n",
       "    </tr>\n",
       "    <tr>\n",
       "      <th>4</th>\n",
       "      <td>Guest, Portal</td>\n",
       "      <td>1</td>\n",
       "      <td>0.03</td>\n",
       "    </tr>\n",
       "  </tbody>\n",
       "</table>\n",
       "</div>"
      ],
      "text/plain": [
       "     enabled_payment_method  practice_count  percentage\n",
       "0  Guest, Portal, Statement              29        0.74\n",
       "1                     Guest               4        0.10\n",
       "2                 Statement               3        0.08\n",
       "3          Guest, Statement               2        0.05\n",
       "4             Guest, Portal               1        0.03"
      ]
     },
     "execution_count": 69,
     "metadata": {},
     "output_type": "execute_result"
    }
   ],
   "source": [
    "df1"
   ]
  },
  {
   "cell_type": "code",
   "execution_count": 97,
   "id": "4f00a3c2-ed5b-4727-b537-5d9bc646f13b",
   "metadata": {},
   "outputs": [],
   "source": [
    "\n",
    "df3 = practice.groupby('Size')[['Guest Pay Enabled', 'Portal Pay Enabled', 'Statement Pay Enabled']].apply(lambda x : (x == 'Y').sum()).reset_index()"
   ]
  },
  {
   "cell_type": "code",
   "execution_count": 98,
   "id": "7553cb4e-5c41-405d-be97-16ce002a655f",
   "metadata": {},
   "outputs": [
    {
     "data": {
      "text/html": [
       "<div>\n",
       "<style scoped>\n",
       "    .dataframe tbody tr th:only-of-type {\n",
       "        vertical-align: middle;\n",
       "    }\n",
       "\n",
       "    .dataframe tbody tr th {\n",
       "        vertical-align: top;\n",
       "    }\n",
       "\n",
       "    .dataframe thead th {\n",
       "        text-align: right;\n",
       "    }\n",
       "</style>\n",
       "<table border=\"1\" class=\"dataframe\">\n",
       "  <thead>\n",
       "    <tr style=\"text-align: right;\">\n",
       "      <th></th>\n",
       "      <th>Size</th>\n",
       "      <th>Guest Pay Enabled</th>\n",
       "      <th>Portal Pay Enabled</th>\n",
       "      <th>Statement Pay Enabled</th>\n",
       "    </tr>\n",
       "  </thead>\n",
       "  <tbody>\n",
       "    <tr>\n",
       "      <th>0</th>\n",
       "      <td>Large</td>\n",
       "      <td>4</td>\n",
       "      <td>3</td>\n",
       "      <td>4</td>\n",
       "    </tr>\n",
       "    <tr>\n",
       "      <th>1</th>\n",
       "      <td>Medium</td>\n",
       "      <td>8</td>\n",
       "      <td>8</td>\n",
       "      <td>8</td>\n",
       "    </tr>\n",
       "    <tr>\n",
       "      <th>2</th>\n",
       "      <td>Small</td>\n",
       "      <td>18</td>\n",
       "      <td>16</td>\n",
       "      <td>18</td>\n",
       "    </tr>\n",
       "    <tr>\n",
       "      <th>3</th>\n",
       "      <td>X-Large</td>\n",
       "      <td>6</td>\n",
       "      <td>3</td>\n",
       "      <td>4</td>\n",
       "    </tr>\n",
       "  </tbody>\n",
       "</table>\n",
       "</div>"
      ],
      "text/plain": [
       "      Size  Guest Pay Enabled  Portal Pay Enabled  Statement Pay Enabled\n",
       "0    Large                  4                   3                      4\n",
       "1   Medium                  8                   8                      8\n",
       "2    Small                 18                  16                     18\n",
       "3  X-Large                  6                   3                      4"
      ]
     },
     "execution_count": 98,
     "metadata": {},
     "output_type": "execute_result"
    }
   ],
   "source": [
    "df3"
   ]
  },
  {
   "cell_type": "code",
   "execution_count": 99,
   "id": "78b24f5c-991d-4661-818a-0d4dd360ff65",
   "metadata": {},
   "outputs": [],
   "source": [
    "df3['total practices'] = practice.groupby('Size').size().values"
   ]
  },
  {
   "cell_type": "code",
   "execution_count": 100,
   "id": "7ecda247-50b8-480e-b115-9bb5e68254ea",
   "metadata": {},
   "outputs": [
    {
     "data": {
      "text/html": [
       "<div>\n",
       "<style scoped>\n",
       "    .dataframe tbody tr th:only-of-type {\n",
       "        vertical-align: middle;\n",
       "    }\n",
       "\n",
       "    .dataframe tbody tr th {\n",
       "        vertical-align: top;\n",
       "    }\n",
       "\n",
       "    .dataframe thead th {\n",
       "        text-align: right;\n",
       "    }\n",
       "</style>\n",
       "<table border=\"1\" class=\"dataframe\">\n",
       "  <thead>\n",
       "    <tr style=\"text-align: right;\">\n",
       "      <th></th>\n",
       "      <th>Size</th>\n",
       "      <th>Guest Pay Enabled</th>\n",
       "      <th>Portal Pay Enabled</th>\n",
       "      <th>Statement Pay Enabled</th>\n",
       "      <th>total practices</th>\n",
       "    </tr>\n",
       "  </thead>\n",
       "  <tbody>\n",
       "    <tr>\n",
       "      <th>0</th>\n",
       "      <td>Large</td>\n",
       "      <td>4</td>\n",
       "      <td>3</td>\n",
       "      <td>4</td>\n",
       "      <td>4</td>\n",
       "    </tr>\n",
       "    <tr>\n",
       "      <th>1</th>\n",
       "      <td>Medium</td>\n",
       "      <td>8</td>\n",
       "      <td>8</td>\n",
       "      <td>8</td>\n",
       "      <td>9</td>\n",
       "    </tr>\n",
       "    <tr>\n",
       "      <th>2</th>\n",
       "      <td>Small</td>\n",
       "      <td>18</td>\n",
       "      <td>16</td>\n",
       "      <td>18</td>\n",
       "      <td>20</td>\n",
       "    </tr>\n",
       "    <tr>\n",
       "      <th>3</th>\n",
       "      <td>X-Large</td>\n",
       "      <td>6</td>\n",
       "      <td>3</td>\n",
       "      <td>4</td>\n",
       "      <td>6</td>\n",
       "    </tr>\n",
       "  </tbody>\n",
       "</table>\n",
       "</div>"
      ],
      "text/plain": [
       "      Size  Guest Pay Enabled  Portal Pay Enabled  Statement Pay Enabled  \\\n",
       "0    Large                  4                   3                      4   \n",
       "1   Medium                  8                   8                      8   \n",
       "2    Small                 18                  16                     18   \n",
       "3  X-Large                  6                   3                      4   \n",
       "\n",
       "   total practices  \n",
       "0                4  \n",
       "1                9  \n",
       "2               20  \n",
       "3                6  "
      ]
     },
     "execution_count": 100,
     "metadata": {},
     "output_type": "execute_result"
    }
   ],
   "source": [
    "df3"
   ]
  },
  {
   "cell_type": "code",
   "execution_count": 101,
   "id": "1548be55-c444-420f-b0aa-8bec2d788545",
   "metadata": {},
   "outputs": [],
   "source": [
    "df3['Guest %'] = (df3['Guest Pay Enabled'] / df3['total practices']).round(2)\n",
    "df3['Portal %'] = (df3['Portal Pay Enabled'] / df3['total practices']).round(2)\n",
    "df3['Statement %'] = (df3['Statement Pay Enabled'] / df3['total practices']).round(2)"
   ]
  },
  {
   "cell_type": "code",
   "execution_count": 102,
   "id": "a2dba1b8-7b68-4520-8a41-72cd9cee8123",
   "metadata": {},
   "outputs": [
    {
     "data": {
      "text/html": [
       "<div>\n",
       "<style scoped>\n",
       "    .dataframe tbody tr th:only-of-type {\n",
       "        vertical-align: middle;\n",
       "    }\n",
       "\n",
       "    .dataframe tbody tr th {\n",
       "        vertical-align: top;\n",
       "    }\n",
       "\n",
       "    .dataframe thead th {\n",
       "        text-align: right;\n",
       "    }\n",
       "</style>\n",
       "<table border=\"1\" class=\"dataframe\">\n",
       "  <thead>\n",
       "    <tr style=\"text-align: right;\">\n",
       "      <th></th>\n",
       "      <th>Size</th>\n",
       "      <th>Guest Pay Enabled</th>\n",
       "      <th>Portal Pay Enabled</th>\n",
       "      <th>Statement Pay Enabled</th>\n",
       "      <th>total practices</th>\n",
       "      <th>Guest %</th>\n",
       "      <th>Portal %</th>\n",
       "      <th>Statement %</th>\n",
       "    </tr>\n",
       "  </thead>\n",
       "  <tbody>\n",
       "    <tr>\n",
       "      <th>0</th>\n",
       "      <td>Large</td>\n",
       "      <td>4</td>\n",
       "      <td>3</td>\n",
       "      <td>4</td>\n",
       "      <td>4</td>\n",
       "      <td>1.00</td>\n",
       "      <td>0.75</td>\n",
       "      <td>1.00</td>\n",
       "    </tr>\n",
       "    <tr>\n",
       "      <th>1</th>\n",
       "      <td>Medium</td>\n",
       "      <td>8</td>\n",
       "      <td>8</td>\n",
       "      <td>8</td>\n",
       "      <td>9</td>\n",
       "      <td>0.89</td>\n",
       "      <td>0.89</td>\n",
       "      <td>0.89</td>\n",
       "    </tr>\n",
       "    <tr>\n",
       "      <th>2</th>\n",
       "      <td>Small</td>\n",
       "      <td>18</td>\n",
       "      <td>16</td>\n",
       "      <td>18</td>\n",
       "      <td>20</td>\n",
       "      <td>0.90</td>\n",
       "      <td>0.80</td>\n",
       "      <td>0.90</td>\n",
       "    </tr>\n",
       "    <tr>\n",
       "      <th>3</th>\n",
       "      <td>X-Large</td>\n",
       "      <td>6</td>\n",
       "      <td>3</td>\n",
       "      <td>4</td>\n",
       "      <td>6</td>\n",
       "      <td>1.00</td>\n",
       "      <td>0.50</td>\n",
       "      <td>0.67</td>\n",
       "    </tr>\n",
       "  </tbody>\n",
       "</table>\n",
       "</div>"
      ],
      "text/plain": [
       "      Size  Guest Pay Enabled  Portal Pay Enabled  Statement Pay Enabled  \\\n",
       "0    Large                  4                   3                      4   \n",
       "1   Medium                  8                   8                      8   \n",
       "2    Small                 18                  16                     18   \n",
       "3  X-Large                  6                   3                      4   \n",
       "\n",
       "   total practices  Guest %  Portal %  Statement %  \n",
       "0                4     1.00      0.75         1.00  \n",
       "1                9     0.89      0.89         0.89  \n",
       "2               20     0.90      0.80         0.90  \n",
       "3                6     1.00      0.50         0.67  "
      ]
     },
     "execution_count": 102,
     "metadata": {},
     "output_type": "execute_result"
    }
   ],
   "source": [
    "df3"
   ]
  },
  {
   "cell_type": "code",
   "execution_count": 104,
   "id": "2f5b898e-5b9a-486a-8e72-5f18765418f5",
   "metadata": {},
   "outputs": [],
   "source": [
    "import scipy.stats as stats"
   ]
  },
  {
   "cell_type": "code",
   "execution_count": 105,
   "id": "05ef7814-2ae5-4d16-95af-6abbb5a0b2d3",
   "metadata": {},
   "outputs": [],
   "source": [
    "df3.set_index(df3.columns[0], inplace = True)"
   ]
  },
  {
   "cell_type": "code",
   "execution_count": 106,
   "id": "93a2e607-bebe-4a22-9f93-efdd99ee0c02",
   "metadata": {},
   "outputs": [
    {
     "data": {
      "text/html": [
       "<div>\n",
       "<style scoped>\n",
       "    .dataframe tbody tr th:only-of-type {\n",
       "        vertical-align: middle;\n",
       "    }\n",
       "\n",
       "    .dataframe tbody tr th {\n",
       "        vertical-align: top;\n",
       "    }\n",
       "\n",
       "    .dataframe thead th {\n",
       "        text-align: right;\n",
       "    }\n",
       "</style>\n",
       "<table border=\"1\" class=\"dataframe\">\n",
       "  <thead>\n",
       "    <tr style=\"text-align: right;\">\n",
       "      <th></th>\n",
       "      <th>Guest Pay Enabled</th>\n",
       "      <th>Portal Pay Enabled</th>\n",
       "      <th>Statement Pay Enabled</th>\n",
       "      <th>total practices</th>\n",
       "      <th>Guest %</th>\n",
       "      <th>Portal %</th>\n",
       "      <th>Statement %</th>\n",
       "    </tr>\n",
       "    <tr>\n",
       "      <th>Size</th>\n",
       "      <th></th>\n",
       "      <th></th>\n",
       "      <th></th>\n",
       "      <th></th>\n",
       "      <th></th>\n",
       "      <th></th>\n",
       "      <th></th>\n",
       "    </tr>\n",
       "  </thead>\n",
       "  <tbody>\n",
       "    <tr>\n",
       "      <th>Large</th>\n",
       "      <td>4</td>\n",
       "      <td>3</td>\n",
       "      <td>4</td>\n",
       "      <td>4</td>\n",
       "      <td>1.00</td>\n",
       "      <td>0.75</td>\n",
       "      <td>1.00</td>\n",
       "    </tr>\n",
       "    <tr>\n",
       "      <th>Medium</th>\n",
       "      <td>8</td>\n",
       "      <td>8</td>\n",
       "      <td>8</td>\n",
       "      <td>9</td>\n",
       "      <td>0.89</td>\n",
       "      <td>0.89</td>\n",
       "      <td>0.89</td>\n",
       "    </tr>\n",
       "    <tr>\n",
       "      <th>Small</th>\n",
       "      <td>18</td>\n",
       "      <td>16</td>\n",
       "      <td>18</td>\n",
       "      <td>20</td>\n",
       "      <td>0.90</td>\n",
       "      <td>0.80</td>\n",
       "      <td>0.90</td>\n",
       "    </tr>\n",
       "    <tr>\n",
       "      <th>X-Large</th>\n",
       "      <td>6</td>\n",
       "      <td>3</td>\n",
       "      <td>4</td>\n",
       "      <td>6</td>\n",
       "      <td>1.00</td>\n",
       "      <td>0.50</td>\n",
       "      <td>0.67</td>\n",
       "    </tr>\n",
       "  </tbody>\n",
       "</table>\n",
       "</div>"
      ],
      "text/plain": [
       "         Guest Pay Enabled  Portal Pay Enabled  Statement Pay Enabled  \\\n",
       "Size                                                                    \n",
       "Large                    4                   3                      4   \n",
       "Medium                   8                   8                      8   \n",
       "Small                   18                  16                     18   \n",
       "X-Large                  6                   3                      4   \n",
       "\n",
       "         total practices  Guest %  Portal %  Statement %  \n",
       "Size                                                      \n",
       "Large                  4     1.00      0.75         1.00  \n",
       "Medium                 9     0.89      0.89         0.89  \n",
       "Small                 20     0.90      0.80         0.90  \n",
       "X-Large                6     1.00      0.50         0.67  "
      ]
     },
     "execution_count": 106,
     "metadata": {},
     "output_type": "execute_result"
    }
   ],
   "source": [
    "df3"
   ]
  },
  {
   "cell_type": "code",
   "execution_count": 107,
   "id": "760fc5d5-e39d-4600-8d31-31f6cff2b495",
   "metadata": {},
   "outputs": [],
   "source": [
    "df4 = df3.iloc[:, :3]"
   ]
  },
  {
   "cell_type": "code",
   "execution_count": 108,
   "id": "97834235-c382-4898-982c-b8e69d373595",
   "metadata": {},
   "outputs": [
    {
     "data": {
      "text/html": [
       "<div>\n",
       "<style scoped>\n",
       "    .dataframe tbody tr th:only-of-type {\n",
       "        vertical-align: middle;\n",
       "    }\n",
       "\n",
       "    .dataframe tbody tr th {\n",
       "        vertical-align: top;\n",
       "    }\n",
       "\n",
       "    .dataframe thead th {\n",
       "        text-align: right;\n",
       "    }\n",
       "</style>\n",
       "<table border=\"1\" class=\"dataframe\">\n",
       "  <thead>\n",
       "    <tr style=\"text-align: right;\">\n",
       "      <th></th>\n",
       "      <th>Guest Pay Enabled</th>\n",
       "      <th>Portal Pay Enabled</th>\n",
       "      <th>Statement Pay Enabled</th>\n",
       "    </tr>\n",
       "    <tr>\n",
       "      <th>Size</th>\n",
       "      <th></th>\n",
       "      <th></th>\n",
       "      <th></th>\n",
       "    </tr>\n",
       "  </thead>\n",
       "  <tbody>\n",
       "    <tr>\n",
       "      <th>Large</th>\n",
       "      <td>4</td>\n",
       "      <td>3</td>\n",
       "      <td>4</td>\n",
       "    </tr>\n",
       "    <tr>\n",
       "      <th>Medium</th>\n",
       "      <td>8</td>\n",
       "      <td>8</td>\n",
       "      <td>8</td>\n",
       "    </tr>\n",
       "    <tr>\n",
       "      <th>Small</th>\n",
       "      <td>18</td>\n",
       "      <td>16</td>\n",
       "      <td>18</td>\n",
       "    </tr>\n",
       "    <tr>\n",
       "      <th>X-Large</th>\n",
       "      <td>6</td>\n",
       "      <td>3</td>\n",
       "      <td>4</td>\n",
       "    </tr>\n",
       "  </tbody>\n",
       "</table>\n",
       "</div>"
      ],
      "text/plain": [
       "         Guest Pay Enabled  Portal Pay Enabled  Statement Pay Enabled\n",
       "Size                                                                 \n",
       "Large                    4                   3                      4\n",
       "Medium                   8                   8                      8\n",
       "Small                   18                  16                     18\n",
       "X-Large                  6                   3                      4"
      ]
     },
     "execution_count": 108,
     "metadata": {},
     "output_type": "execute_result"
    }
   ],
   "source": [
    "df4"
   ]
  },
  {
   "cell_type": "code",
   "execution_count": 109,
   "id": "13f40099-5fdd-426e-97d7-18348a9fce6f",
   "metadata": {},
   "outputs": [],
   "source": [
    "chi2, p, dof, expected = stats.chi2_contingency(df4)"
   ]
  },
  {
   "cell_type": "code",
   "execution_count": 113,
   "id": "2e8f47f3-fd66-4820-b64a-54c1847ae40d",
   "metadata": {},
   "outputs": [],
   "source": [
    "chi2_result = {\n",
    "    'Chi-Square Statistic' : chi2,\n",
    "    'p_value' : p,\n",
    "    'Degrees of Freedom': dof,\n",
    "    'expected Frequencies': expected\n",
    "}"
   ]
  },
  {
   "cell_type": "code",
   "execution_count": 114,
   "id": "189651e5-84d1-4eff-8a27-ae8864f84eb8",
   "metadata": {},
   "outputs": [
    {
     "data": {
      "text/plain": [
       "{'Chi-Square Statistic': np.float64(0.8488352605999665),\n",
       " 'p_value': np.float64(0.990699875623935),\n",
       " 'Degrees of Freedom': 6,\n",
       " 'expected Frequencies': array([[ 3.96,  3.3 ,  3.74],\n",
       "        [ 8.64,  7.2 ,  8.16],\n",
       "        [18.72, 15.6 , 17.68],\n",
       "        [ 4.68,  3.9 ,  4.42]])}"
      ]
     },
     "execution_count": 114,
     "metadata": {},
     "output_type": "execute_result"
    }
   ],
   "source": [
    "chi2_result"
   ]
  },
  {
   "cell_type": "code",
   "execution_count": 115,
   "id": "9ebfb90f-611b-431c-8839-c3d69237475a",
   "metadata": {},
   "outputs": [
    {
     "data": {
      "text/html": [
       "<div>\n",
       "<style scoped>\n",
       "    .dataframe tbody tr th:only-of-type {\n",
       "        vertical-align: middle;\n",
       "    }\n",
       "\n",
       "    .dataframe tbody tr th {\n",
       "        vertical-align: top;\n",
       "    }\n",
       "\n",
       "    .dataframe thead th {\n",
       "        text-align: right;\n",
       "    }\n",
       "</style>\n",
       "<table border=\"1\" class=\"dataframe\">\n",
       "  <thead>\n",
       "    <tr style=\"text-align: right;\">\n",
       "      <th></th>\n",
       "      <th>Practice ID</th>\n",
       "      <th>Charge ID</th>\n",
       "      <th>Charge Date</th>\n",
       "      <th>Patient ID</th>\n",
       "      <th>Charge Amount</th>\n",
       "      <th>Charge Type</th>\n",
       "      <th>Patient Age</th>\n",
       "    </tr>\n",
       "  </thead>\n",
       "  <tbody>\n",
       "    <tr>\n",
       "      <th>0</th>\n",
       "      <td>6120</td>\n",
       "      <td>6120_11364675</td>\n",
       "      <td>2021-04-18</td>\n",
       "      <td>6120_329154</td>\n",
       "      <td>16.70</td>\n",
       "      <td>COPAY</td>\n",
       "      <td>25</td>\n",
       "    </tr>\n",
       "    <tr>\n",
       "      <th>1</th>\n",
       "      <td>19851</td>\n",
       "      <td>19851_483405</td>\n",
       "      <td>2021-02-05</td>\n",
       "      <td>19851_86429</td>\n",
       "      <td>212.04</td>\n",
       "      <td>DEDUCTIBLE</td>\n",
       "      <td>90</td>\n",
       "    </tr>\n",
       "    <tr>\n",
       "      <th>2</th>\n",
       "      <td>19851</td>\n",
       "      <td>19851_473580</td>\n",
       "      <td>2021-01-22</td>\n",
       "      <td>19851_86429</td>\n",
       "      <td>132.06</td>\n",
       "      <td>DEDUCTIBLE</td>\n",
       "      <td>90</td>\n",
       "    </tr>\n",
       "    <tr>\n",
       "      <th>3</th>\n",
       "      <td>19851</td>\n",
       "      <td>19851_491385</td>\n",
       "      <td>2021-02-19</td>\n",
       "      <td>19851_86429</td>\n",
       "      <td>25.00</td>\n",
       "      <td>COINSURANCE</td>\n",
       "      <td>90</td>\n",
       "    </tr>\n",
       "    <tr>\n",
       "      <th>4</th>\n",
       "      <td>19851</td>\n",
       "      <td>19851_572250</td>\n",
       "      <td>2021-06-11</td>\n",
       "      <td>19851_86429</td>\n",
       "      <td>25.00</td>\n",
       "      <td>COINSURANCE</td>\n",
       "      <td>90</td>\n",
       "    </tr>\n",
       "  </tbody>\n",
       "</table>\n",
       "</div>"
      ],
      "text/plain": [
       "   Practice ID      Charge ID Charge Date   Patient ID  Charge Amount  \\\n",
       "0         6120  6120_11364675  2021-04-18  6120_329154          16.70   \n",
       "1        19851   19851_483405  2021-02-05  19851_86429         212.04   \n",
       "2        19851   19851_473580  2021-01-22  19851_86429         132.06   \n",
       "3        19851   19851_491385  2021-02-19  19851_86429          25.00   \n",
       "4        19851   19851_572250  2021-06-11  19851_86429          25.00   \n",
       "\n",
       "   Charge Type  Patient Age  \n",
       "0        COPAY           25  \n",
       "1   DEDUCTIBLE           90  \n",
       "2   DEDUCTIBLE           90  \n",
       "3  COINSURANCE           90  \n",
       "4  COINSURANCE           90  "
      ]
     },
     "execution_count": 115,
     "metadata": {},
     "output_type": "execute_result"
    }
   ],
   "source": [
    "charges.head()"
   ]
  },
  {
   "cell_type": "code",
   "execution_count": 116,
   "id": "ec3baaf4-b22b-4c83-9259-d44789e9312e",
   "metadata": {},
   "outputs": [
    {
     "data": {
      "text/html": [
       "<div>\n",
       "<style scoped>\n",
       "    .dataframe tbody tr th:only-of-type {\n",
       "        vertical-align: middle;\n",
       "    }\n",
       "\n",
       "    .dataframe tbody tr th {\n",
       "        vertical-align: top;\n",
       "    }\n",
       "\n",
       "    .dataframe thead th {\n",
       "        text-align: right;\n",
       "    }\n",
       "</style>\n",
       "<table border=\"1\" class=\"dataframe\">\n",
       "  <thead>\n",
       "    <tr style=\"text-align: right;\">\n",
       "      <th></th>\n",
       "      <th>Practice ID</th>\n",
       "      <th>Charge ID</th>\n",
       "      <th>Payment ID</th>\n",
       "      <th>Payment Date</th>\n",
       "      <th>Paid Amount</th>\n",
       "      <th>Payment Method</th>\n",
       "    </tr>\n",
       "  </thead>\n",
       "  <tbody>\n",
       "    <tr>\n",
       "      <th>0</th>\n",
       "      <td>5559</td>\n",
       "      <td>5559_3906930</td>\n",
       "      <td>5559_7059582</td>\n",
       "      <td>2021-01-14</td>\n",
       "      <td>40.00</td>\n",
       "      <td>OTHER</td>\n",
       "    </tr>\n",
       "    <tr>\n",
       "      <th>1</th>\n",
       "      <td>210</td>\n",
       "      <td>210_3992410</td>\n",
       "      <td>210_7196454</td>\n",
       "      <td>2021-01-29</td>\n",
       "      <td>10.00</td>\n",
       "      <td>OTHER</td>\n",
       "    </tr>\n",
       "    <tr>\n",
       "      <th>2</th>\n",
       "      <td>546</td>\n",
       "      <td>546_4646975</td>\n",
       "      <td>546_8377668</td>\n",
       "      <td>2021-01-31</td>\n",
       "      <td>25.00</td>\n",
       "      <td>OTHER</td>\n",
       "    </tr>\n",
       "    <tr>\n",
       "      <th>3</th>\n",
       "      <td>426</td>\n",
       "      <td>426_869705</td>\n",
       "      <td>426_1569681</td>\n",
       "      <td>2021-06-06</td>\n",
       "      <td>12.05</td>\n",
       "      <td>OTHER</td>\n",
       "    </tr>\n",
       "    <tr>\n",
       "      <th>4</th>\n",
       "      <td>5559</td>\n",
       "      <td>5559_3895045</td>\n",
       "      <td>5559_7034247</td>\n",
       "      <td>2021-01-07</td>\n",
       "      <td>145.62</td>\n",
       "      <td>OTHER</td>\n",
       "    </tr>\n",
       "  </tbody>\n",
       "</table>\n",
       "</div>"
      ],
      "text/plain": [
       "   Practice ID     Charge ID    Payment ID Payment Date  Paid Amount  \\\n",
       "0         5559  5559_3906930  5559_7059582   2021-01-14        40.00   \n",
       "1          210   210_3992410   210_7196454   2021-01-29        10.00   \n",
       "2          546   546_4646975   546_8377668   2021-01-31        25.00   \n",
       "3          426    426_869705   426_1569681   2021-06-06        12.05   \n",
       "4         5559  5559_3895045  5559_7034247   2021-01-07       145.62   \n",
       "\n",
       "  Payment Method  \n",
       "0          OTHER  \n",
       "1          OTHER  \n",
       "2          OTHER  \n",
       "3          OTHER  \n",
       "4          OTHER  "
      ]
     },
     "execution_count": 116,
     "metadata": {},
     "output_type": "execute_result"
    }
   ],
   "source": [
    "payments.head()"
   ]
  },
  {
   "cell_type": "code",
   "execution_count": 117,
   "id": "7c76db56-e687-4a56-ba69-8f000a6a6f9c",
   "metadata": {},
   "outputs": [],
   "source": [
    "agg_payments = payments.groupby(['Practice ID', 'Charge ID']).agg(\n",
    "    payment_count = ('Payment ID', 'nunique'),\n",
    "    first_payment_date = ('Payment Date', 'min'),\n",
    "    last_payment_date = ('Payment Date', 'max'),\n",
    "    total_paid_amount = ('Paid Amount', 'sum'),\n",
    "    payment_methods_used = ('Payment Method', 'nunique')\n",
    ").reset_index()"
   ]
  },
  {
   "cell_type": "code",
   "execution_count": 118,
   "id": "10849147-0026-485e-b4a6-7d30c58f51b7",
   "metadata": {},
   "outputs": [
    {
     "data": {
      "text/html": [
       "<div>\n",
       "<style scoped>\n",
       "    .dataframe tbody tr th:only-of-type {\n",
       "        vertical-align: middle;\n",
       "    }\n",
       "\n",
       "    .dataframe tbody tr th {\n",
       "        vertical-align: top;\n",
       "    }\n",
       "\n",
       "    .dataframe thead th {\n",
       "        text-align: right;\n",
       "    }\n",
       "</style>\n",
       "<table border=\"1\" class=\"dataframe\">\n",
       "  <thead>\n",
       "    <tr style=\"text-align: right;\">\n",
       "      <th></th>\n",
       "      <th>Practice ID</th>\n",
       "      <th>Charge ID</th>\n",
       "      <th>payment_count</th>\n",
       "      <th>first_payment_date</th>\n",
       "      <th>last_payment_date</th>\n",
       "      <th>total_paid_amount</th>\n",
       "      <th>payment_methods_used</th>\n",
       "    </tr>\n",
       "  </thead>\n",
       "  <tbody>\n",
       "    <tr>\n",
       "      <th>0</th>\n",
       "      <td>57</td>\n",
       "      <td>57_208595</td>\n",
       "      <td>1</td>\n",
       "      <td>2021-02-17</td>\n",
       "      <td>2021-02-17</td>\n",
       "      <td>10.00</td>\n",
       "      <td>1</td>\n",
       "    </tr>\n",
       "    <tr>\n",
       "      <th>1</th>\n",
       "      <td>57</td>\n",
       "      <td>57_216365</td>\n",
       "      <td>1</td>\n",
       "      <td>2021-03-23</td>\n",
       "      <td>2021-03-23</td>\n",
       "      <td>65.52</td>\n",
       "      <td>1</td>\n",
       "    </tr>\n",
       "    <tr>\n",
       "      <th>2</th>\n",
       "      <td>57</td>\n",
       "      <td>57_229575</td>\n",
       "      <td>2</td>\n",
       "      <td>2021-03-23</td>\n",
       "      <td>2021-05-03</td>\n",
       "      <td>34.48</td>\n",
       "      <td>1</td>\n",
       "    </tr>\n",
       "    <tr>\n",
       "      <th>3</th>\n",
       "      <td>57</td>\n",
       "      <td>57_289935</td>\n",
       "      <td>2</td>\n",
       "      <td>2021-02-17</td>\n",
       "      <td>2021-03-04</td>\n",
       "      <td>0.00</td>\n",
       "      <td>1</td>\n",
       "    </tr>\n",
       "    <tr>\n",
       "      <th>4</th>\n",
       "      <td>57</td>\n",
       "      <td>57_315335</td>\n",
       "      <td>1</td>\n",
       "      <td>2021-01-25</td>\n",
       "      <td>2021-01-25</td>\n",
       "      <td>15.48</td>\n",
       "      <td>1</td>\n",
       "    </tr>\n",
       "  </tbody>\n",
       "</table>\n",
       "</div>"
      ],
      "text/plain": [
       "   Practice ID  Charge ID  payment_count first_payment_date last_payment_date  \\\n",
       "0           57  57_208595              1         2021-02-17        2021-02-17   \n",
       "1           57  57_216365              1         2021-03-23        2021-03-23   \n",
       "2           57  57_229575              2         2021-03-23        2021-05-03   \n",
       "3           57  57_289935              2         2021-02-17        2021-03-04   \n",
       "4           57  57_315335              1         2021-01-25        2021-01-25   \n",
       "\n",
       "   total_paid_amount  payment_methods_used  \n",
       "0              10.00                     1  \n",
       "1              65.52                     1  \n",
       "2              34.48                     1  \n",
       "3               0.00                     1  \n",
       "4              15.48                     1  "
      ]
     },
     "execution_count": 118,
     "metadata": {},
     "output_type": "execute_result"
    }
   ],
   "source": [
    "agg_payments.head()"
   ]
  },
  {
   "cell_type": "code",
   "execution_count": 119,
   "id": "f095e302-1cc7-4967-a85c-b14d817a4995",
   "metadata": {},
   "outputs": [],
   "source": [
    "merged_df = pd.merge(charges, agg_payments, on = 'Charge ID', how = 'left')"
   ]
  },
  {
   "cell_type": "code",
   "execution_count": 120,
   "id": "94721016-035f-4fcb-b0f3-97fdadaec16c",
   "metadata": {},
   "outputs": [
    {
     "data": {
      "text/html": [
       "<div>\n",
       "<style scoped>\n",
       "    .dataframe tbody tr th:only-of-type {\n",
       "        vertical-align: middle;\n",
       "    }\n",
       "\n",
       "    .dataframe tbody tr th {\n",
       "        vertical-align: top;\n",
       "    }\n",
       "\n",
       "    .dataframe thead th {\n",
       "        text-align: right;\n",
       "    }\n",
       "</style>\n",
       "<table border=\"1\" class=\"dataframe\">\n",
       "  <thead>\n",
       "    <tr style=\"text-align: right;\">\n",
       "      <th></th>\n",
       "      <th>Practice ID_x</th>\n",
       "      <th>Charge ID</th>\n",
       "      <th>Charge Date</th>\n",
       "      <th>Patient ID</th>\n",
       "      <th>Charge Amount</th>\n",
       "      <th>Charge Type</th>\n",
       "      <th>Patient Age</th>\n",
       "      <th>Practice ID_y</th>\n",
       "      <th>payment_count</th>\n",
       "      <th>first_payment_date</th>\n",
       "      <th>last_payment_date</th>\n",
       "      <th>total_paid_amount</th>\n",
       "      <th>payment_methods_used</th>\n",
       "    </tr>\n",
       "  </thead>\n",
       "  <tbody>\n",
       "    <tr>\n",
       "      <th>0</th>\n",
       "      <td>6120</td>\n",
       "      <td>6120_11364675</td>\n",
       "      <td>2021-04-18</td>\n",
       "      <td>6120_329154</td>\n",
       "      <td>16.70</td>\n",
       "      <td>COPAY</td>\n",
       "      <td>25</td>\n",
       "      <td>6120.0</td>\n",
       "      <td>1.0</td>\n",
       "      <td>2021-05-06</td>\n",
       "      <td>2021-05-06</td>\n",
       "      <td>16.70</td>\n",
       "      <td>1.0</td>\n",
       "    </tr>\n",
       "    <tr>\n",
       "      <th>1</th>\n",
       "      <td>19851</td>\n",
       "      <td>19851_483405</td>\n",
       "      <td>2021-02-05</td>\n",
       "      <td>19851_86429</td>\n",
       "      <td>212.04</td>\n",
       "      <td>DEDUCTIBLE</td>\n",
       "      <td>90</td>\n",
       "      <td>19851.0</td>\n",
       "      <td>3.0</td>\n",
       "      <td>2021-02-06</td>\n",
       "      <td>2021-02-09</td>\n",
       "      <td>212.04</td>\n",
       "      <td>1.0</td>\n",
       "    </tr>\n",
       "    <tr>\n",
       "      <th>2</th>\n",
       "      <td>19851</td>\n",
       "      <td>19851_473580</td>\n",
       "      <td>2021-01-22</td>\n",
       "      <td>19851_86429</td>\n",
       "      <td>132.06</td>\n",
       "      <td>DEDUCTIBLE</td>\n",
       "      <td>90</td>\n",
       "      <td>19851.0</td>\n",
       "      <td>3.0</td>\n",
       "      <td>2021-01-22</td>\n",
       "      <td>2021-06-15</td>\n",
       "      <td>55.00</td>\n",
       "      <td>1.0</td>\n",
       "    </tr>\n",
       "    <tr>\n",
       "      <th>3</th>\n",
       "      <td>19851</td>\n",
       "      <td>19851_491385</td>\n",
       "      <td>2021-02-19</td>\n",
       "      <td>19851_86429</td>\n",
       "      <td>25.00</td>\n",
       "      <td>COINSURANCE</td>\n",
       "      <td>90</td>\n",
       "      <td>19851.0</td>\n",
       "      <td>1.0</td>\n",
       "      <td>2021-02-19</td>\n",
       "      <td>2021-02-19</td>\n",
       "      <td>25.00</td>\n",
       "      <td>1.0</td>\n",
       "    </tr>\n",
       "    <tr>\n",
       "      <th>4</th>\n",
       "      <td>19851</td>\n",
       "      <td>19851_572250</td>\n",
       "      <td>2021-06-11</td>\n",
       "      <td>19851_86429</td>\n",
       "      <td>25.00</td>\n",
       "      <td>COINSURANCE</td>\n",
       "      <td>90</td>\n",
       "      <td>19851.0</td>\n",
       "      <td>1.0</td>\n",
       "      <td>2021-06-11</td>\n",
       "      <td>2021-06-11</td>\n",
       "      <td>25.00</td>\n",
       "      <td>1.0</td>\n",
       "    </tr>\n",
       "  </tbody>\n",
       "</table>\n",
       "</div>"
      ],
      "text/plain": [
       "   Practice ID_x      Charge ID Charge Date   Patient ID  Charge Amount  \\\n",
       "0           6120  6120_11364675  2021-04-18  6120_329154          16.70   \n",
       "1          19851   19851_483405  2021-02-05  19851_86429         212.04   \n",
       "2          19851   19851_473580  2021-01-22  19851_86429         132.06   \n",
       "3          19851   19851_491385  2021-02-19  19851_86429          25.00   \n",
       "4          19851   19851_572250  2021-06-11  19851_86429          25.00   \n",
       "\n",
       "   Charge Type  Patient Age  Practice ID_y  payment_count first_payment_date  \\\n",
       "0        COPAY           25         6120.0            1.0         2021-05-06   \n",
       "1   DEDUCTIBLE           90        19851.0            3.0         2021-02-06   \n",
       "2   DEDUCTIBLE           90        19851.0            3.0         2021-01-22   \n",
       "3  COINSURANCE           90        19851.0            1.0         2021-02-19   \n",
       "4  COINSURANCE           90        19851.0            1.0         2021-06-11   \n",
       "\n",
       "  last_payment_date  total_paid_amount  payment_methods_used  \n",
       "0        2021-05-06              16.70                   1.0  \n",
       "1        2021-02-09             212.04                   1.0  \n",
       "2        2021-06-15              55.00                   1.0  \n",
       "3        2021-02-19              25.00                   1.0  \n",
       "4        2021-06-11              25.00                   1.0  "
      ]
     },
     "execution_count": 120,
     "metadata": {},
     "output_type": "execute_result"
    }
   ],
   "source": [
    "merged_df.head()"
   ]
  },
  {
   "cell_type": "code",
   "execution_count": 121,
   "id": "b4dcd7a8-8382-411d-af31-6ed2540b8c0c",
   "metadata": {},
   "outputs": [
    {
     "name": "stdout",
     "output_type": "stream",
     "text": [
      "<class 'pandas.core.frame.DataFrame'>\n",
      "RangeIndex: 100107 entries, 0 to 100106\n",
      "Data columns (total 13 columns):\n",
      " #   Column                Non-Null Count   Dtype         \n",
      "---  ------                --------------   -----         \n",
      " 0   Practice ID_x         100107 non-null  int64         \n",
      " 1   Charge ID             100107 non-null  object        \n",
      " 2   Charge Date           100107 non-null  datetime64[ns]\n",
      " 3   Patient ID            100107 non-null  object        \n",
      " 4   Charge Amount         100107 non-null  float64       \n",
      " 5   Charge Type           100107 non-null  object        \n",
      " 6   Patient Age           100107 non-null  int64         \n",
      " 7   Practice ID_y         68458 non-null   float64       \n",
      " 8   payment_count         68458 non-null   float64       \n",
      " 9   first_payment_date    68458 non-null   datetime64[ns]\n",
      " 10  last_payment_date     68458 non-null   datetime64[ns]\n",
      " 11  total_paid_amount     68458 non-null   float64       \n",
      " 12  payment_methods_used  68458 non-null   float64       \n",
      "dtypes: datetime64[ns](3), float64(5), int64(2), object(3)\n",
      "memory usage: 9.9+ MB\n"
     ]
    }
   ],
   "source": [
    "merged_df.info()"
   ]
  },
  {
   "cell_type": "code",
   "execution_count": 122,
   "id": "21eea675-e404-4c85-9f46-128346649c2f",
   "metadata": {},
   "outputs": [
    {
     "data": {
      "text/plain": [
       "payment_methods_used\n",
       "1.0    67462\n",
       "2.0      991\n",
       "3.0        5\n",
       "Name: count, dtype: int64"
      ]
     },
     "execution_count": 122,
     "metadata": {},
     "output_type": "execute_result"
    }
   ],
   "source": [
    "merged_df['payment_methods_used'].value_counts()"
   ]
  },
  {
   "cell_type": "code",
   "execution_count": 129,
   "id": "c8ed6fa2-d1b4-4b43-8f70-ddeab2573512",
   "metadata": {},
   "outputs": [
    {
     "data": {
      "text/plain": [
       "Charge Type\n",
       "DEDUCTIBLE     458\n",
       "COPAY          318\n",
       "COINSURANCE    104\n",
       "OTHER           69\n",
       "SELF-PAY        42\n",
       "Name: count, dtype: int64"
      ]
     },
     "execution_count": 129,
     "metadata": {},
     "output_type": "execute_result"
    }
   ],
   "source": [
    "merged_df['Charge Type'].loc[merged_df['payment_methods_used'] == 2.0].value_counts()"
   ]
  },
  {
   "cell_type": "code",
   "execution_count": 130,
   "id": "cfd5812f-4a6a-4251-9342-78e0879cd8d4",
   "metadata": {},
   "outputs": [],
   "source": [
    "merged_df1 = pd.merge(charges, payments, on = 'Charge ID', how = 'left')"
   ]
  },
  {
   "cell_type": "code",
   "execution_count": 131,
   "id": "aa333acf-c92c-4c9a-9a7a-7cd74c5008f1",
   "metadata": {},
   "outputs": [
    {
     "name": "stdout",
     "output_type": "stream",
     "text": [
      "<class 'pandas.core.frame.DataFrame'>\n",
      "RangeIndex: 106001 entries, 0 to 106000\n",
      "Data columns (total 12 columns):\n",
      " #   Column          Non-Null Count   Dtype         \n",
      "---  ------          --------------   -----         \n",
      " 0   Practice ID_x   106001 non-null  int64         \n",
      " 1   Charge ID       106001 non-null  object        \n",
      " 2   Charge Date     106001 non-null  datetime64[ns]\n",
      " 3   Patient ID      106001 non-null  object        \n",
      " 4   Charge Amount   106001 non-null  float64       \n",
      " 5   Charge Type     106001 non-null  object        \n",
      " 6   Patient Age     106001 non-null  int64         \n",
      " 7   Practice ID_y   74352 non-null   float64       \n",
      " 8   Payment ID      74352 non-null   object        \n",
      " 9   Payment Date    74352 non-null   datetime64[ns]\n",
      " 10  Paid Amount     74352 non-null   float64       \n",
      " 11  Payment Method  74352 non-null   object        \n",
      "dtypes: datetime64[ns](2), float64(3), int64(2), object(5)\n",
      "memory usage: 9.7+ MB\n"
     ]
    }
   ],
   "source": [
    "merged_df1.info()"
   ]
  },
  {
   "cell_type": "code",
   "execution_count": 145,
   "id": "3c33b88c-ab40-428c-8b30-246266eb7516",
   "metadata": {},
   "outputs": [],
   "source": [
    "payment_method_usage = merged_df1.groupby(['Payment Method']).agg(\n",
    "    Paid_Amount = ('Paid Amount', 'sum'),\n",
    "    Payment_Count = ('Payment ID', 'nunique'),\n",
    "    Charges_Count = ('Charge ID', 'nunique')\n",
    ").reset_index()"
   ]
  },
  {
   "cell_type": "code",
   "execution_count": 146,
   "id": "c5c135b7-ffce-4785-92b5-940963c31e5d",
   "metadata": {},
   "outputs": [],
   "source": [
    "payment_method_usage['percentage'] = (payment_method_usage['Paid_Amount'] / payment_method_usage['Paid_Amount'].sum()).round(4)"
   ]
  },
  {
   "cell_type": "code",
   "execution_count": 147,
   "id": "7cb5009d-bb77-4e6c-826d-678f439fb8e1",
   "metadata": {},
   "outputs": [
    {
     "data": {
      "text/html": [
       "<div>\n",
       "<style scoped>\n",
       "    .dataframe tbody tr th:only-of-type {\n",
       "        vertical-align: middle;\n",
       "    }\n",
       "\n",
       "    .dataframe tbody tr th {\n",
       "        vertical-align: top;\n",
       "    }\n",
       "\n",
       "    .dataframe thead th {\n",
       "        text-align: right;\n",
       "    }\n",
       "</style>\n",
       "<table border=\"1\" class=\"dataframe\">\n",
       "  <thead>\n",
       "    <tr style=\"text-align: right;\">\n",
       "      <th></th>\n",
       "      <th>Payment Method</th>\n",
       "      <th>Paid_Amount</th>\n",
       "      <th>Payment_Count</th>\n",
       "      <th>Charges_Count</th>\n",
       "      <th>percentage</th>\n",
       "    </tr>\n",
       "  </thead>\n",
       "  <tbody>\n",
       "    <tr>\n",
       "      <th>0</th>\n",
       "      <td>GUEST PAY</td>\n",
       "      <td>227584.77</td>\n",
       "      <td>4296</td>\n",
       "      <td>4282</td>\n",
       "      <td>0.0554</td>\n",
       "    </tr>\n",
       "    <tr>\n",
       "      <th>1</th>\n",
       "      <td>OTHER</td>\n",
       "      <td>3097337.63</td>\n",
       "      <td>56888</td>\n",
       "      <td>52211</td>\n",
       "      <td>0.7538</td>\n",
       "    </tr>\n",
       "    <tr>\n",
       "      <th>2</th>\n",
       "      <td>PORTAL PAY</td>\n",
       "      <td>314227.63</td>\n",
       "      <td>4946</td>\n",
       "      <td>4829</td>\n",
       "      <td>0.0765</td>\n",
       "    </tr>\n",
       "    <tr>\n",
       "      <th>3</th>\n",
       "      <td>STATEMENT PAY</td>\n",
       "      <td>470061.28</td>\n",
       "      <td>8222</td>\n",
       "      <td>8137</td>\n",
       "      <td>0.1144</td>\n",
       "    </tr>\n",
       "  </tbody>\n",
       "</table>\n",
       "</div>"
      ],
      "text/plain": [
       "  Payment Method  Paid_Amount  Payment_Count  Charges_Count  percentage\n",
       "0      GUEST PAY    227584.77           4296           4282      0.0554\n",
       "1          OTHER   3097337.63          56888          52211      0.7538\n",
       "2     PORTAL PAY    314227.63           4946           4829      0.0765\n",
       "3  STATEMENT PAY    470061.28           8222           8137      0.1144"
      ]
     },
     "execution_count": 147,
     "metadata": {},
     "output_type": "execute_result"
    }
   ],
   "source": [
    "payment_method_usage"
   ]
  },
  {
   "cell_type": "code",
   "execution_count": 150,
   "id": "eee1269c-0193-48b8-a7a4-b78bb348ea0e",
   "metadata": {},
   "outputs": [],
   "source": [
    "charge_amount = merged_df.groupby('Charge Type').agg(\n",
    "    Charge_Amount = ('Charge Amount', 'sum'),\n",
    "    Paid_Amount = ('total_paid_amount', 'sum')\n",
    ").reset_index()"
   ]
  },
  {
   "cell_type": "code",
   "execution_count": 151,
   "id": "80b62d3f-15c8-4bd5-b4c4-6a96d526c685",
   "metadata": {},
   "outputs": [
    {
     "data": {
      "text/html": [
       "<div>\n",
       "<style scoped>\n",
       "    .dataframe tbody tr th:only-of-type {\n",
       "        vertical-align: middle;\n",
       "    }\n",
       "\n",
       "    .dataframe tbody tr th {\n",
       "        vertical-align: top;\n",
       "    }\n",
       "\n",
       "    .dataframe thead th {\n",
       "        text-align: right;\n",
       "    }\n",
       "</style>\n",
       "<table border=\"1\" class=\"dataframe\">\n",
       "  <thead>\n",
       "    <tr style=\"text-align: right;\">\n",
       "      <th></th>\n",
       "      <th>Charge Type</th>\n",
       "      <th>Charge_Amount</th>\n",
       "      <th>Paid_Amount</th>\n",
       "    </tr>\n",
       "  </thead>\n",
       "  <tbody>\n",
       "    <tr>\n",
       "      <th>0</th>\n",
       "      <td>COINSURANCE</td>\n",
       "      <td>726215.59</td>\n",
       "      <td>343533.55</td>\n",
       "    </tr>\n",
       "    <tr>\n",
       "      <th>1</th>\n",
       "      <td>COPAY</td>\n",
       "      <td>877122.11</td>\n",
       "      <td>711547.49</td>\n",
       "    </tr>\n",
       "    <tr>\n",
       "      <th>2</th>\n",
       "      <td>DEDUCTIBLE</td>\n",
       "      <td>2241963.39</td>\n",
       "      <td>1587500.59</td>\n",
       "    </tr>\n",
       "    <tr>\n",
       "      <th>3</th>\n",
       "      <td>OTHER</td>\n",
       "      <td>747598.02</td>\n",
       "      <td>286616.39</td>\n",
       "    </tr>\n",
       "    <tr>\n",
       "      <th>4</th>\n",
       "      <td>SELF-PAY</td>\n",
       "      <td>1789229.45</td>\n",
       "      <td>1180013.29</td>\n",
       "    </tr>\n",
       "  </tbody>\n",
       "</table>\n",
       "</div>"
      ],
      "text/plain": [
       "   Charge Type  Charge_Amount  Paid_Amount\n",
       "0  COINSURANCE      726215.59    343533.55\n",
       "1        COPAY      877122.11    711547.49\n",
       "2   DEDUCTIBLE     2241963.39   1587500.59\n",
       "3        OTHER      747598.02    286616.39\n",
       "4     SELF-PAY     1789229.45   1180013.29"
      ]
     },
     "execution_count": 151,
     "metadata": {},
     "output_type": "execute_result"
    }
   ],
   "source": [
    "charge_amount"
   ]
  },
  {
   "cell_type": "code",
   "execution_count": 154,
   "id": "7b68d8ab-df38-4e2c-864d-9d2fa1a47a3c",
   "metadata": {},
   "outputs": [],
   "source": [
    "merged_df['full_payment'] = (merged_df['Charge Amount'] == merged_df['total_paid_amount']).astype(int)"
   ]
  },
  {
   "cell_type": "code",
   "execution_count": 155,
   "id": "9a383585-8594-456b-a64b-e8d642db3ab7",
   "metadata": {},
   "outputs": [
    {
     "data": {
      "text/html": [
       "<div>\n",
       "<style scoped>\n",
       "    .dataframe tbody tr th:only-of-type {\n",
       "        vertical-align: middle;\n",
       "    }\n",
       "\n",
       "    .dataframe tbody tr th {\n",
       "        vertical-align: top;\n",
       "    }\n",
       "\n",
       "    .dataframe thead th {\n",
       "        text-align: right;\n",
       "    }\n",
       "</style>\n",
       "<table border=\"1\" class=\"dataframe\">\n",
       "  <thead>\n",
       "    <tr style=\"text-align: right;\">\n",
       "      <th></th>\n",
       "      <th>Practice ID_x</th>\n",
       "      <th>Charge ID</th>\n",
       "      <th>Charge Date</th>\n",
       "      <th>Patient ID</th>\n",
       "      <th>Charge Amount</th>\n",
       "      <th>Charge Type</th>\n",
       "      <th>Patient Age</th>\n",
       "      <th>Practice ID_y</th>\n",
       "      <th>payment_count</th>\n",
       "      <th>first_payment_date</th>\n",
       "      <th>last_payment_date</th>\n",
       "      <th>total_paid_amount</th>\n",
       "      <th>payment_methods_used</th>\n",
       "      <th>full_payment</th>\n",
       "    </tr>\n",
       "  </thead>\n",
       "  <tbody>\n",
       "    <tr>\n",
       "      <th>0</th>\n",
       "      <td>6120</td>\n",
       "      <td>6120_11364675</td>\n",
       "      <td>2021-04-18</td>\n",
       "      <td>6120_329154</td>\n",
       "      <td>16.70</td>\n",
       "      <td>COPAY</td>\n",
       "      <td>25</td>\n",
       "      <td>6120.0</td>\n",
       "      <td>1.0</td>\n",
       "      <td>2021-05-06</td>\n",
       "      <td>2021-05-06</td>\n",
       "      <td>16.70</td>\n",
       "      <td>1.0</td>\n",
       "      <td>1</td>\n",
       "    </tr>\n",
       "    <tr>\n",
       "      <th>1</th>\n",
       "      <td>19851</td>\n",
       "      <td>19851_483405</td>\n",
       "      <td>2021-02-05</td>\n",
       "      <td>19851_86429</td>\n",
       "      <td>212.04</td>\n",
       "      <td>DEDUCTIBLE</td>\n",
       "      <td>90</td>\n",
       "      <td>19851.0</td>\n",
       "      <td>3.0</td>\n",
       "      <td>2021-02-06</td>\n",
       "      <td>2021-02-09</td>\n",
       "      <td>212.04</td>\n",
       "      <td>1.0</td>\n",
       "      <td>0</td>\n",
       "    </tr>\n",
       "    <tr>\n",
       "      <th>2</th>\n",
       "      <td>19851</td>\n",
       "      <td>19851_473580</td>\n",
       "      <td>2021-01-22</td>\n",
       "      <td>19851_86429</td>\n",
       "      <td>132.06</td>\n",
       "      <td>DEDUCTIBLE</td>\n",
       "      <td>90</td>\n",
       "      <td>19851.0</td>\n",
       "      <td>3.0</td>\n",
       "      <td>2021-01-22</td>\n",
       "      <td>2021-06-15</td>\n",
       "      <td>55.00</td>\n",
       "      <td>1.0</td>\n",
       "      <td>0</td>\n",
       "    </tr>\n",
       "    <tr>\n",
       "      <th>3</th>\n",
       "      <td>19851</td>\n",
       "      <td>19851_491385</td>\n",
       "      <td>2021-02-19</td>\n",
       "      <td>19851_86429</td>\n",
       "      <td>25.00</td>\n",
       "      <td>COINSURANCE</td>\n",
       "      <td>90</td>\n",
       "      <td>19851.0</td>\n",
       "      <td>1.0</td>\n",
       "      <td>2021-02-19</td>\n",
       "      <td>2021-02-19</td>\n",
       "      <td>25.00</td>\n",
       "      <td>1.0</td>\n",
       "      <td>1</td>\n",
       "    </tr>\n",
       "    <tr>\n",
       "      <th>4</th>\n",
       "      <td>19851</td>\n",
       "      <td>19851_572250</td>\n",
       "      <td>2021-06-11</td>\n",
       "      <td>19851_86429</td>\n",
       "      <td>25.00</td>\n",
       "      <td>COINSURANCE</td>\n",
       "      <td>90</td>\n",
       "      <td>19851.0</td>\n",
       "      <td>1.0</td>\n",
       "      <td>2021-06-11</td>\n",
       "      <td>2021-06-11</td>\n",
       "      <td>25.00</td>\n",
       "      <td>1.0</td>\n",
       "      <td>1</td>\n",
       "    </tr>\n",
       "  </tbody>\n",
       "</table>\n",
       "</div>"
      ],
      "text/plain": [
       "   Practice ID_x      Charge ID Charge Date   Patient ID  Charge Amount  \\\n",
       "0           6120  6120_11364675  2021-04-18  6120_329154          16.70   \n",
       "1          19851   19851_483405  2021-02-05  19851_86429         212.04   \n",
       "2          19851   19851_473580  2021-01-22  19851_86429         132.06   \n",
       "3          19851   19851_491385  2021-02-19  19851_86429          25.00   \n",
       "4          19851   19851_572250  2021-06-11  19851_86429          25.00   \n",
       "\n",
       "   Charge Type  Patient Age  Practice ID_y  payment_count first_payment_date  \\\n",
       "0        COPAY           25         6120.0            1.0         2021-05-06   \n",
       "1   DEDUCTIBLE           90        19851.0            3.0         2021-02-06   \n",
       "2   DEDUCTIBLE           90        19851.0            3.0         2021-01-22   \n",
       "3  COINSURANCE           90        19851.0            1.0         2021-02-19   \n",
       "4  COINSURANCE           90        19851.0            1.0         2021-06-11   \n",
       "\n",
       "  last_payment_date  total_paid_amount  payment_methods_used  full_payment  \n",
       "0        2021-05-06              16.70                   1.0             1  \n",
       "1        2021-02-09             212.04                   1.0             0  \n",
       "2        2021-06-15              55.00                   1.0             0  \n",
       "3        2021-02-19              25.00                   1.0             1  \n",
       "4        2021-06-11              25.00                   1.0             1  "
      ]
     },
     "execution_count": 155,
     "metadata": {},
     "output_type": "execute_result"
    }
   ],
   "source": [
    "merged_df.head()"
   ]
  },
  {
   "cell_type": "code",
   "execution_count": 156,
   "id": "3d14bee7-9616-4a61-81d1-3a1d0a8e57eb",
   "metadata": {},
   "outputs": [],
   "source": [
    "merged_df.to_excel(\"output.xlsx\", index=False)"
   ]
  },
  {
   "cell_type": "code",
   "execution_count": 157,
   "id": "3b805fb5-0227-49fa-89ca-5e6f4f61e18d",
   "metadata": {},
   "outputs": [
    {
     "data": {
      "text/html": [
       "<a href='output.xlsx' target='_blank'>output.xlsx</a><br>"
      ],
      "text/plain": [
       "C:\\Users\\jayas\\output.xlsx"
      ]
     },
     "execution_count": 157,
     "metadata": {},
     "output_type": "execute_result"
    }
   ],
   "source": [
    "from IPython.display import FileLink\n",
    "\n",
    "FileLink(\"output.xlsx\")"
   ]
  },
  {
   "cell_type": "code",
   "execution_count": null,
   "id": "1ab47f5c-49a6-41dd-bfe6-bcc75437b95d",
   "metadata": {},
   "outputs": [],
   "source": []
  }
 ],
 "metadata": {
  "kernelspec": {
   "display_name": "Python 3 (ipykernel)",
   "language": "python",
   "name": "python3"
  },
  "language_info": {
   "codemirror_mode": {
    "name": "ipython",
    "version": 3
   },
   "file_extension": ".py",
   "mimetype": "text/x-python",
   "name": "python",
   "nbconvert_exporter": "python",
   "pygments_lexer": "ipython3",
   "version": "3.13.2"
  }
 },
 "nbformat": 4,
 "nbformat_minor": 5
}
